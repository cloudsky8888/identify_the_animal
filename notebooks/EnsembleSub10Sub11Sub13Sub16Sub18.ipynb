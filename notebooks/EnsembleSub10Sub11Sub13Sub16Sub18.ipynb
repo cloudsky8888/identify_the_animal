{
 "cells": [
  {
   "cell_type": "code",
   "execution_count": 1,
   "metadata": {},
   "outputs": [],
   "source": [
    "import pandas as pd\n",
    "import numpy as np"
   ]
  },
  {
   "cell_type": "code",
   "execution_count": 5,
   "metadata": {},
   "outputs": [],
   "source": [
    "sub10 = pd.read_csv('../data/raw/HE_DL/submissions/sub10.csv')\n",
    "sub11 = pd.read_csv('../data/raw/HE_DL/submissions/sub11.csv')\n",
    "sub13 = pd.read_csv('../data/raw/HE_DL/submissions/sub13.csv')\n",
    "sub16 = pd.read_csv('../data/raw/HE_DL/submissions/sub16.csv')\n",
    "sub18 = pd.read_csv('../data/raw/HE_DL/submissions/sub18.csv')"
   ]
  },
  {
   "cell_type": "code",
   "execution_count": 7,
   "metadata": {},
   "outputs": [],
   "source": [
    "ensemble = .35 * sub11.iloc[:, 1:] + .3 * sub16.iloc[:, 1:] + .25 * sub18.iloc[:, 1:] +\\\n",
    "           .05 * sub10.iloc[:, 1:] + .05 * sub13.iloc[:, 1:]\n",
    "    \n",
    "df       = sub10.copy()\n",
    "\n",
    "df.iloc[:, 1:] = ensemble"
   ]
  },
  {
   "cell_type": "code",
   "execution_count": 8,
   "metadata": {},
   "outputs": [],
   "source": [
    "df.to_csv('../data/raw/HE_DL/submissions/ensemble_10_11_13_16_18.csv', index=False)"
   ]
  },
  {
   "cell_type": "code",
   "execution_count": null,
   "metadata": {},
   "outputs": [],
   "source": []
  }
 ],
 "metadata": {
  "kernelspec": {
   "display_name": "Python 3",
   "language": "python",
   "name": "python3"
  },
  "language_info": {
   "codemirror_mode": {
    "name": "ipython",
    "version": 3
   },
   "file_extension": ".py",
   "mimetype": "text/x-python",
   "name": "python",
   "nbconvert_exporter": "python",
   "pygments_lexer": "ipython3",
   "version": "3.6.1"
  }
 },
 "nbformat": 4,
 "nbformat_minor": 2
}
